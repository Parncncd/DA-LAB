{
  "nbformat": 4,
  "nbformat_minor": 0,
  "metadata": {
    "colab": {
      "provenance": [],
      "authorship_tag": "ABX9TyMnMHlSsBujzTQsY8BvRbVi",
      "include_colab_link": true
    },
    "kernelspec": {
      "name": "python3",
      "display_name": "Python 3"
    },
    "language_info": {
      "name": "python"
    }
  },
  "cells": [
    {
      "cell_type": "markdown",
      "metadata": {
        "id": "view-in-github",
        "colab_type": "text"
      },
      "source": [
        "<a href=\"https://colab.research.google.com/github/Rathachai/DA-LAB/blob/gh-pages/code/CH-09/model-based-recsys.ipynb\" target=\"_parent\"><img src=\"https://colab.research.google.com/assets/colab-badge.svg\" alt=\"Open In Colab\"/></a>"
      ]
    },
    {
      "cell_type": "markdown",
      "source": [
        "# Data Analytics Book : CODE\n",
        "\n",
        "**ISBN** : 978-616-338-169-9\n",
        "\n",
        "**Author** : Rathachai Chawuthai\n",
        "\n",
        "**Year** : 2022\n",
        "\n",
        "**Copyright** © by KMITL\n",
        "\n",
        "**Link** : https://github.com/Rathachai/DA-LAB\n",
        "\n",
        "\n",
        "\n",
        "---"
      ],
      "metadata": {
        "id": "NKLrEJkkDG0z"
      }
    },
    {
      "cell_type": "markdown",
      "source": [
        "## **Chapter 9 : Recommender System**\n",
        "\n",
        "\n",
        "---"
      ],
      "metadata": {
        "id": "CIjRrHJ9DOI_"
      }
    },
    {
      "cell_type": "code",
      "execution_count": 1,
      "metadata": {
        "id": "6nQRAc6YDAIL"
      },
      "outputs": [],
      "source": [
        "import numpy as np"
      ]
    },
    {
      "cell_type": "code",
      "source": [
        "# Rating Matrix (-1 means no rating)\n",
        "\n",
        "R = np.array([\n",
        "    [ 2, -1, -1,  2,  2],\n",
        "    [-1,  4,  4, -1,  3],\n",
        "    [ 1,  4,  1,  2,  2],\n",
        "    [-1,  2, -1, -1,  5],\n",
        "    [-1,  2,  1, -1,  5]])"
      ],
      "metadata": {
        "id": "zyvCnygSDx9c"
      },
      "execution_count": 2,
      "outputs": []
    },
    {
      "cell_type": "code",
      "source": [
        "# Set the shape of data\n",
        "\n",
        "num_users, num_items = R.shape\n",
        "num_features = 2"
      ],
      "metadata": {
        "id": "zMkwfoLlD0ib"
      },
      "execution_count": 3,
      "outputs": []
    },
    {
      "cell_type": "code",
      "source": [
        "# Mean\n",
        "\n",
        "m = R[R>-1].mean()"
      ],
      "metadata": {
        "id": "d1DB5O89D5n_"
      },
      "execution_count": 4,
      "outputs": []
    },
    {
      "cell_type": "code",
      "source": [
        "# Randomly initial variables\n",
        "\n",
        "BI = np.random.rand(num_items)\n",
        "BU = np.random.rand(num_users)\n",
        "Q = np.random.rand(num_features, num_items)\n",
        "P = np.random.rand(num_features, num_users)"
      ],
      "metadata": {
        "id": "rI6KycUdD7oy"
      },
      "execution_count": 5,
      "outputs": []
    },
    {
      "cell_type": "code",
      "source": [
        "# Check initial variables\n",
        "\n",
        "print('BI = ', BI)\n",
        "print('-----------------------')\n",
        "print('BU = ', BU)\n",
        "print('-----------------------')\n",
        "print('Q = ')\n",
        "print(Q)\n",
        "print('-----------------------')\n",
        "print('P = ')\n",
        "print(P)"
      ],
      "metadata": {
        "colab": {
          "base_uri": "https://localhost:8080/"
        },
        "id": "g3fOCVJyD_qh",
        "outputId": "12d597f4-1315-4664-e767-6c255e363c3c"
      },
      "execution_count": 6,
      "outputs": [
        {
          "output_type": "stream",
          "name": "stdout",
          "text": [
            "BI =  [0.92409232 0.37582964 0.15784256 0.86406983 0.61428513]\n",
            "-----------------------\n",
            "BU =  [0.91518722 0.17707827 0.37717357 0.99528889 0.10888368]\n",
            "-----------------------\n",
            "Q = \n",
            "[[0.99285724 0.55309625 0.38595235 0.16601081 0.90172046]\n",
            " [0.2278401  0.62149473 0.74428592 0.61561853 0.53398909]]\n",
            "-----------------------\n",
            "P = \n",
            "[[0.27825837 0.04776916 0.56843267 0.40766324 0.02668244]\n",
            " [0.81374309 0.8788218  0.02602903 0.91730251 0.04688133]]\n"
          ]
        }
      ]
    },
    {
      "cell_type": "code",
      "source": [
        "# Verify initial MAE\n",
        "\n",
        "R_pred = m + BI[np.newaxis,:] + BU[:,np.newaxis] + P.T.dot(Q)\n",
        "mae = abs(R[R>0]-R_pred[R>0]).mean()\n",
        "print(mae)"
      ],
      "metadata": {
        "colab": {
          "base_uri": "https://localhost:8080/"
        },
        "id": "MYWocUfUEUSJ",
        "outputId": "d5595ce2-4e5c-4bbc-8547-8568b91bce72"
      },
      "execution_count": 7,
      "outputs": [
        {
          "output_type": "stream",
          "name": "stdout",
          "text": [
            "1.7591445798829657\n"
          ]
        }
      ]
    },
    {
      "cell_type": "code",
      "source": [
        "#set learning rate\n",
        "alpha = 0.1\n",
        "\n",
        "#set number of epoch\n",
        "epoch_num = 30"
      ],
      "metadata": {
        "id": "LIwn2MFOD3R4"
      },
      "execution_count": 8,
      "outputs": []
    },
    {
      "cell_type": "code",
      "source": [
        "for epoch in range(epoch_num):\n",
        "  for u,i in np.argwhere(R>-1):\n",
        "    # predict the r^\n",
        "    r_pred = m + BI[i] + BU[u] + P[:,u].T.dot(Q[:,i])\n",
        "\n",
        "    # traning\n",
        "    BI[i] = BI[i] - alpha*(r_pred-R[u,i])\n",
        "    BU[u] = BU[u] - alpha*(r_pred-R[u,i])\n",
        "    Q[:,i] = Q[:,i] - alpha*(r_pred-R[u,i])*P[:,u]\n",
        "    P[:,u] = P[:,u] - alpha*(r_pred-R[u,i])*Q[:,i]"
      ],
      "metadata": {
        "id": "AfX9A4U0Ei8K"
      },
      "execution_count": 9,
      "outputs": []
    },
    {
      "cell_type": "code",
      "source": [
        "# Check trained variables\n",
        "\n",
        "print('BI = ', BI)\n",
        "print('-----------------------')\n",
        "print('BU = ', BU)\n",
        "print('-----------------------')\n",
        "print('Q = ')\n",
        "print(Q)\n",
        "print('-----------------------')\n",
        "print('P = ')\n",
        "print(P)"
      ],
      "metadata": {
        "colab": {
          "base_uri": "https://localhost:8080/"
        },
        "id": "rWGBZXOHFPUa",
        "outputId": "a3d0dd87-74a9-4add-cb8b-e246f259dfb5"
      },
      "execution_count": 10,
      "outputs": [
        {
          "output_type": "stream",
          "name": "stdout",
          "text": [
            "BI =  [-0.28038055  0.55690706 -0.74696832 -0.10316328  0.84820625]\n",
            "-----------------------\n",
            "BU =  [-0.36309542  0.6220034  -0.23269254  0.12496504 -0.23908716]\n",
            "-----------------------\n",
            "Q = \n",
            "[[ 0.80082371 -1.03197899 -0.0393756   0.30551432  1.58308232]\n",
            " [ 0.65235491 -0.26820193  1.20471192  0.06012455 -0.23567422]]\n",
            "-----------------------\n",
            "P = \n",
            "[[-0.59028375 -0.50836851 -0.87399258  1.02344977  1.04228741]\n",
            " [ 0.67074918  1.23129131 -0.56809087  0.93672368 -0.49606976]]\n"
          ]
        }
      ]
    },
    {
      "cell_type": "code",
      "source": [
        "# Predicted the Rating Matrix\n",
        "\n",
        "R_PRED = m + BI[np.newaxis,:] + BU[:,np.newaxis] + P.T.dot(Q)\n",
        "\n",
        "print(R_PRED.round(1))"
      ],
      "metadata": {
        "colab": {
          "base_uri": "https://localhost:8080/"
        },
        "id": "q4KCziHUF-rl",
        "outputId": "6f2f6f45-5c25-4b20-f1e1-0c9a75658817"
      },
      "execution_count": 11,
      "outputs": [
        {
          "output_type": "stream",
          "name": "stdout",
          "text": [
            "[[1.9 3.2 2.3 2.  2. ]\n",
            " [3.4 4.  4.  3.1 3. ]\n",
            " [1.  4.  1.  2.  2. ]\n",
            " [3.9 2.  3.1 3.  5. ]\n",
            " [2.6 2.  1.  2.6 5. ]]\n"
          ]
        }
      ]
    },
    {
      "cell_type": "code",
      "source": [
        "# Verify MAE after training\n",
        "\n",
        "mae = np.abs(R[R>0]-R_PRED[R>0]).mean()\n",
        "print(mae)"
      ],
      "metadata": {
        "colab": {
          "base_uri": "https://localhost:8080/"
        },
        "id": "p6ECDiCbFRH_",
        "outputId": "a6a52e7f-419a-4d47-8d78-6e062e7e676a"
      },
      "execution_count": 12,
      "outputs": [
        {
          "output_type": "stream",
          "name": "stdout",
          "text": [
            "0.010660513186119547\n"
          ]
        }
      ]
    },
    {
      "cell_type": "markdown",
      "source": [
        "\n",
        "\n",
        "---\n",
        "\n"
      ],
      "metadata": {
        "id": "sLOB2ttkGSyC"
      }
    },
    {
      "cell_type": "markdown",
      "source": [
        "https://rathachai.creatier.pro/"
      ],
      "metadata": {
        "id": "ly8fufEIGTVj"
      }
    }
  ]
}