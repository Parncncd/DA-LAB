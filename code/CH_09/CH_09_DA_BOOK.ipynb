{
  "nbformat": 4,
  "nbformat_minor": 0,
  "metadata": {
    "colab": {
      "provenance": [],
      "authorship_tag": "ABX9TyMnMHlSsBujzTQsY8BvRbVi",
      "include_colab_link": true
    },
    "kernelspec": {
      "name": "python3",
      "display_name": "Python 3"
    },
    "language_info": {
      "name": "python"
    }
  },
  "cells": [
    {
      "cell_type": "markdown",
      "metadata": {
        "id": "view-in-github",
        "colab_type": "text"
      },
      "source": [
        "<a href=\"https://colab.research.google.com/github/Rathachai/DA-LAB/blob/gh-pages/code/CH_09/CH_09_DA_BOOK.ipynb\" target=\"_parent\"><img src=\"https://colab.research.google.com/assets/colab-badge.svg\" alt=\"Open In Colab\"/></a>"
      ]
    },
    {
      "cell_type": "markdown",
      "source": [
        "# Data Analytics Book : CODE\n",
        "\n",
        "**ISBN** : 978-616-338-169-9\n",
        "\n",
        "**Author** : Rathachai Chawuthai\n",
        "\n",
        "**Year** : 2022\n",
        "\n",
        "**Copyright** © by KMITL\n",
        "\n",
        "**Link** : https://github.com/Rathachai/DA-LAB\n",
        "\n",
        "\n",
        "\n",
        "---"
      ],
      "metadata": {
        "id": "NKLrEJkkDG0z"
      }
    },
    {
      "cell_type": "markdown",
      "source": [
        "## **Chapter 9 : Recommender System**\n",
        "\n",
        "\n",
        "---"
      ],
      "metadata": {
        "id": "CIjRrHJ9DOI_"
      }
    },
    {
      "cell_type": "code",
      "execution_count": 1,
      "metadata": {
        "id": "6nQRAc6YDAIL"
      },
      "outputs": [],
      "source": [
        "import numpy as np"
      ]
    },
    {
      "cell_type": "code",
      "source": [
        "# Rating Matrix (-1 means no rating)\n",
        "\n",
        "R = np.array([\n",
        "    [ 2, -1, -1,  2,  2],\n",
        "    [-1,  4,  4, -1,  3],\n",
        "    [ 1,  4,  1,  2,  2],\n",
        "    [-1,  2, -1, -1,  5],\n",
        "    [-1,  2,  1, -1,  5]])"
      ],
      "metadata": {
        "id": "zyvCnygSDx9c"
      },
      "execution_count": 2,
      "outputs": []
    },
    {
      "cell_type": "code",
      "source": [
        "# Set the shape of data\n",
        "\n",
        "num_users, num_items = R.shape\n",
        "num_features = 2"
      ],
      "metadata": {
        "id": "zMkwfoLlD0ib"
      },
      "execution_count": 3,
      "outputs": []
    },
    {
      "cell_type": "code",
      "source": [
        "# Mean\n",
        "\n",
        "m = R[R>-1].mean()"
      ],
      "metadata": {
        "id": "d1DB5O89D5n_"
      },
      "execution_count": 5,
      "outputs": []
    },
    {
      "cell_type": "code",
      "source": [
        "# Randomly initial variables\n",
        "\n",
        "BI = np.random.rand(num_items)\n",
        "BU = np.random.rand(num_users)\n",
        "Q = np.random.rand(num_features, num_items)\n",
        "P = np.random.rand(num_features, num_users)"
      ],
      "metadata": {
        "id": "rI6KycUdD7oy"
      },
      "execution_count": 6,
      "outputs": []
    },
    {
      "cell_type": "code",
      "source": [
        "# Check initial variables\n",
        "\n",
        "print('BI = ', BI)\n",
        "print('-----------------------')\n",
        "print('BU = ', BU)\n",
        "print('-----------------------')\n",
        "print('Q = ')\n",
        "print(Q)\n",
        "print('-----------------------')\n",
        "print('P = ')\n",
        "print(P)"
      ],
      "metadata": {
        "colab": {
          "base_uri": "https://localhost:8080/"
        },
        "id": "g3fOCVJyD_qh",
        "outputId": "2b8d8742-e965-433e-8ec9-093db78fb4c6"
      },
      "execution_count": 10,
      "outputs": [
        {
          "output_type": "stream",
          "name": "stdout",
          "text": [
            "BI =  [0.40846343 0.69520963 0.5951661  0.10236293 0.88914114]\n",
            "-----------------------\n",
            "BU =  [0.32025515 0.81406769 0.33442091 0.77201511 0.94980757]\n",
            "-----------------------\n",
            "Q = \n",
            "[[0.96830493 0.74770372 0.29836004 0.56182917 0.72984379]\n",
            " [0.70584503 0.65166008 0.59395786 0.80917178 0.90636573]]\n",
            "-----------------------\n",
            "P = \n",
            "[[0.73181605 0.83447084 0.86554109 0.23145469 0.67745222]\n",
            " [0.27429646 0.77825462 0.24811325 0.71064664 0.03802084]]\n"
          ]
        }
      ]
    },
    {
      "cell_type": "code",
      "source": [
        "# Verify initial MAE\n",
        "\n",
        "R_pred = m + BI[np.newaxis,:] + BU[:,np.newaxis] + P.T.dot(Q)\n",
        "mae = abs(R[R>0]-R_pred[R>0]).mean()\n",
        "print(mae)"
      ],
      "metadata": {
        "colab": {
          "base_uri": "https://localhost:8080/"
        },
        "id": "MYWocUfUEUSJ",
        "outputId": "82744265-e071-4cd0-973b-33fbfcb853a0"
      },
      "execution_count": 11,
      "outputs": [
        {
          "output_type": "stream",
          "name": "stdout",
          "text": [
            "1.96854892499255\n"
          ]
        }
      ]
    },
    {
      "cell_type": "code",
      "source": [
        "#set learning rate\n",
        "alpha = 0.1\n",
        "\n",
        "#set number of epoch\n",
        "epoch_num = 30"
      ],
      "metadata": {
        "id": "LIwn2MFOD3R4"
      },
      "execution_count": 12,
      "outputs": []
    },
    {
      "cell_type": "code",
      "source": [
        "for epoch in range(epoch_num):\n",
        "  for u,i in np.argwhere(R>-1):\n",
        "    # predict the r^\n",
        "    r_pred = m + BI[i] + BU[u] + P[:,u].T.dot(Q[:,i])\n",
        "\n",
        "    # traning\n",
        "    BI[i] = BI[i] - alpha*(r_pred-R[u,i])\n",
        "    BU[u] = BU[u] - alpha*(r_pred-R[u,i])\n",
        "    Q[:,i] = Q[:,i] - alpha*(r_pred-R[u,i])*P[:,u]\n",
        "    P[:,u] = P[:,u] - alpha*(r_pred-R[u,i])*Q[:,i]"
      ],
      "metadata": {
        "id": "AfX9A4U0Ei8K"
      },
      "execution_count": 13,
      "outputs": []
    },
    {
      "cell_type": "code",
      "source": [
        "# Check trained variables\n",
        "\n",
        "print('BI = ', BI)\n",
        "print('-----------------------')\n",
        "print('BU = ', BU)\n",
        "print('-----------------------')\n",
        "print('Q = ')\n",
        "print(Q)\n",
        "print('-----------------------')\n",
        "print('P = ')\n",
        "print(P)"
      ],
      "metadata": {
        "colab": {
          "base_uri": "https://localhost:8080/"
        },
        "id": "rWGBZXOHFPUa",
        "outputId": "4e067b12-428e-4460-8e61-3d11ddc41fc9"
      },
      "execution_count": 14,
      "outputs": [
        {
          "output_type": "stream",
          "name": "stdout",
          "text": [
            "BI =  [-0.15162307  0.06671002  0.00788585 -0.08197028  0.18780495]\n",
            "-----------------------\n",
            "BU =  [-0.23222654  1.11389325 -0.36347238  0.53955133 -0.52871497]\n",
            "-----------------------\n",
            "Q = \n",
            "[[-0.14004683  0.54114894 -0.89331055  0.51532389  0.9032105 ]\n",
            " [ 0.83682169 -0.92559825  0.16487982  0.74193113  1.42248143]]\n",
            "-----------------------\n",
            "P = \n",
            "[[-0.00953064 -0.36037875  1.22100083 -0.14226641  1.42123773]\n",
            " [-0.38941655 -0.42282335 -1.0936907   1.2473915   1.00705326]]\n"
          ]
        }
      ]
    },
    {
      "cell_type": "code",
      "source": [
        "# Predicted the Rating Matrix\n",
        "\n",
        "R_PRED = m + BI[np.newaxis,:] + BU[:,np.newaxis] + P.T.dot(Q)\n",
        "\n",
        "print(R_PRED.round(1))"
      ],
      "metadata": {
        "colab": {
          "base_uri": "https://localhost:8080/"
        },
        "id": "q4KCziHUF-rl",
        "outputId": "7c3a16f1-f622-4203-9e75-0b5d9d640c74"
      },
      "execution_count": 20,
      "outputs": [
        {
          "output_type": "stream",
          "name": "stdout",
          "text": [
            "[[1.9 2.8 2.3 2.  2. ]\n",
            " [3.3 4.  4.  3.2 3. ]\n",
            " [1.  4.  1.  2.  2. ]\n",
            " [4.1 2.  3.5 3.9 5. ]\n",
            " [2.6 2.  1.  3.5 5. ]]\n"
          ]
        }
      ]
    },
    {
      "cell_type": "code",
      "source": [
        "# Verify MAE after training\n",
        "\n",
        "mae = np.abs(R[R>0]-R_PRED[R>0]).mean()\n",
        "print(mae)"
      ],
      "metadata": {
        "colab": {
          "base_uri": "https://localhost:8080/"
        },
        "id": "p6ECDiCbFRH_",
        "outputId": "beabb907-f180-461e-d467-038bf1eed61d"
      },
      "execution_count": 18,
      "outputs": [
        {
          "output_type": "stream",
          "name": "stdout",
          "text": [
            "0.00984292905904166\n"
          ]
        }
      ]
    },
    {
      "cell_type": "markdown",
      "source": [
        "\n",
        "\n",
        "---\n",
        "\n"
      ],
      "metadata": {
        "id": "sLOB2ttkGSyC"
      }
    },
    {
      "cell_type": "markdown",
      "source": [
        "https://rathachai.creatier.pro/"
      ],
      "metadata": {
        "id": "ly8fufEIGTVj"
      }
    }
  ]
}